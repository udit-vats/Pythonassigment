{
 "cells": [
  {
   "cell_type": "code",
   "execution_count": 3,
   "metadata": {},
   "outputs": [
    {
     "name": "stdout",
     "output_type": "stream",
     "text": [
      "2002,2009,2016,2023,2037,2044,2051,2058,2072,2079,2086,2093,2107,2114,2121,2128,2142,2149,2156,2163,2177,2184,2191,2198,2212,2219,2226,2233,2247,2254,2261,2268,2282,2289,2296,2303,2317,2324,2331,2338,2352,2359,2366,2373,2387,2394,2401,2408,2422,2429,2436,2443,2457,2464,2471,2478,2492,2499,2506,2513,2527,2534,2541,2548,2562,2569,2576,2583,2597,2604,2611,2618,2632,2639,2646,2653,2667,2674,2681,2688,2702,2709,2716,2723,2737,2744,2751,2758,2772,2779,2786,2793,2807,2814,2821,2828,2842,2849,2856,2863,2877,2884,2891,2898,2912,2919,2926,2933,2947,2954,2961,2968,2982,2989,2996,3003,3017,3024,3031,3038,3052,3059,3066,3073,3087,3094,3101,3108,3122,3129,3136,3143,3157,3164,3171,3178,3192,3199,"
     ]
    }
   ],
   "source": [
    "first=2000\n",
    "last=3200\n",
    "for i in range(first,last+1):\n",
    "\n",
    "    if ((i%7==0) & (i%5!=0)):\n",
    "        print(i, end=\",\")"
   ]
  },
  {
   "cell_type": "code",
   "execution_count": 5,
   "metadata": {},
   "outputs": [
    {
     "name": "stdout",
     "output_type": "stream",
     "text": [
      "Enter your first name udit\n",
      "Enter your last name vats\n",
      " vats  udit\n"
     ]
    }
   ],
   "source": [
    "First = input(\"Enter your first name\")\n",
    "surname = input(\"Enter your last name\")\n",
    "\n",
    "v=(First,surname)\n",
    "change=v[::-1]\n",
    "print(\" \".join(change))"
   ]
  },
  {
   "cell_type": "code",
   "execution_count": 8,
   "metadata": {},
   "outputs": [
    {
     "name": "stdout",
     "output_type": "stream",
     "text": [
      "volume of Sphere is 904.78\n"
     ]
    }
   ],
   "source": [
    "import math \n",
    "diameter = 12\n",
    "r=diameter/2\n",
    "\n",
    "volume = 4/3*math.pi*math.pow(r,3)\n",
    "\n",
    "print(\"volume of Sphere is {0:.2f}\".format(volume))\n"
   ]
  },
  {
   "cell_type": "code",
   "execution_count": 9,
   "metadata": {},
   "outputs": [
    {
     "name": "stdout",
     "output_type": "stream",
     "text": [
      "Please enter your number1,2,5,6,8,9,33\n",
      "List is : ['1', '2', '5', '6', '8', '9', '33']\n"
     ]
    },
    {
     "data": {
      "text/plain": [
       "list"
      ]
     },
     "execution_count": 9,
     "metadata": {},
     "output_type": "execute_result"
    }
   ],
   "source": [
    "numb = input (\"Please enter your number\")\n",
    "#l= list(numb.split(\" \"))\n",
    "l=numb.split(\",\")\n",
    "print(\"List is :\" ,l)\n",
    "type(l)"
   ]
  },
  {
   "cell_type": "code",
   "execution_count": 10,
   "metadata": {},
   "outputs": [
    {
     "name": "stdout",
     "output_type": "stream",
     "text": [
      "* \n",
      "* * \n",
      "* * * \n",
      "* * * * \n",
      "* * * * * \n",
      "* * * * \n",
      "* * * \n",
      "* * \n",
      "* \n"
     ]
    }
   ],
   "source": [
    "n= 5\n",
    "for i in range(1,n+1):\n",
    "  for j in range(i):\n",
    "    print(\"*\", end=\" \")\n",
    "  print()\n",
    "for i in range(n-1,0,-1): \n",
    "  for j in range(i):\n",
    "    print(\"*\", end=\" \")\n",
    "  print()"
   ]
  },
  {
   "cell_type": "code",
   "execution_count": 20,
   "metadata": {},
   "outputs": [
    {
     "name": "stdout",
     "output_type": "stream",
     "text": [
      "Enter a word: Uditvats\n"
     ]
    },
    {
     "data": {
      "text/plain": [
       "'stavtidU'"
      ]
     },
     "execution_count": 20,
     "metadata": {},
     "output_type": "execute_result"
    }
   ],
   "source": [
    "a= input(\"Enter a word: \")\n",
    "a[::-1]"
   ]
  },
  {
   "cell_type": "code",
   "execution_count": 21,
   "metadata": {},
   "outputs": [
    {
     "name": "stdout",
     "output_type": "stream",
     "text": [
      "WE, THE PEOPLE OF INDIA, \n",
      "\thaving solemnly resolved to constitute India into a SOVEREIGN,\n",
      "\t\tSOCIALIST, SECULAR, DEMOCRATIC REPUBLIC\n",
      "\t\t and to secure to all its citizens\n"
     ]
    }
   ],
   "source": [
    "preamble = 'WE, THE PEOPLE OF INDIA, \\n\\thaving solemnly resolved to constitute India into a SOVEREIGN,\\n\\t\\tSOCIALIST, SECULAR, DEMOCRATIC REPUBLIC\\n\\t\\t and to secure to all its citizens'\n",
    "print( preamble)"
   ]
  },
  {
   "cell_type": "code",
   "execution_count": null,
   "metadata": {},
   "outputs": [],
   "source": []
  }
 ],
 "metadata": {
  "kernelspec": {
   "display_name": "Python 3",
   "language": "python",
   "name": "python3"
  },
  "language_info": {
   "codemirror_mode": {
    "name": "ipython",
    "version": 3
   },
   "file_extension": ".py",
   "mimetype": "text/x-python",
   "name": "python",
   "nbconvert_exporter": "python",
   "pygments_lexer": "ipython3",
   "version": "3.6.10"
  }
 },
 "nbformat": 4,
 "nbformat_minor": 4
}
